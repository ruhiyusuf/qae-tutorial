{
 "cells": [
  {
   "cell_type": "markdown",
   "id": "c806787e",
   "metadata": {},
   "source": [
    "# Quantum Variational Autoencoder with KL Divergence\n",
    "This tutorial trains a hybrid QVAE using a quantum circuit encoder and classical decoder with a KL divergence loss component."
   ]
  },
  {
   "cell_type": "code",
   "execution_count": 1,
   "id": "392593ea",
   "metadata": {},
   "outputs": [],
   "source": [
    "\n",
    "import torch\n",
    "import torch.nn as nn\n",
    "import torch.nn.functional as F\n",
    "from torch.utils.data import DataLoader, Subset\n",
    "from torchvision import datasets, transforms\n",
    "\n",
    "import matplotlib.pyplot as plt\n",
    "import numpy as np\n",
    "import random\n",
    "\n",
    "from qiskit import QuantumCircuit\n",
    "from qiskit.circuit import ParameterVector\n",
    "from qiskit.quantum_info import SparsePauliOp\n",
    "from qiskit.primitives import Estimator\n",
    "from qiskit_machine_learning.neural_networks import EstimatorQNN\n",
    "from qiskit_machine_learning.connectors import TorchConnector\n"
   ]
  },
  {
   "cell_type": "code",
   "execution_count": 2,
   "id": "e978e821",
   "metadata": {},
   "outputs": [],
   "source": [
    "\n",
    "# Set seeds and device\n",
    "seed = 42\n",
    "torch.manual_seed(seed)\n",
    "np.random.seed(seed)\n",
    "random.seed(seed)\n",
    "device = torch.device(\"cuda\" if torch.cuda.is_available() else \"cpu\")\n"
   ]
  },
  {
   "cell_type": "code",
   "execution_count": 3,
   "id": "d776d9a2",
   "metadata": {},
   "outputs": [],
   "source": [
    "\n",
    "# Prepare MNIST dataset\n",
    "transform = transforms.Compose([\n",
    "    transforms.ToTensor(),\n",
    "    transforms.Lambda(lambda x: x.view(-1))\n",
    "])\n",
    "\n",
    "mnist_data = datasets.MNIST(root=\"./data\", train=True, download=True, transform=transform)\n",
    "subset = Subset(mnist_data, torch.randperm(len(mnist_data))[:500])\n",
    "dataloader = DataLoader(subset, batch_size=32, shuffle=True)\n"
   ]
  },
  {
   "cell_type": "code",
   "execution_count": 24,
   "id": "38e36e02",
   "metadata": {},
   "outputs": [],
   "source": [
    "\n",
    "# Define classical encoder to generate mu and log_var\n",
    "class Encoder(nn.Module):\n",
    "    def __init__(self, input_dim=784, hidden_dim=256, latent_dim=8):\n",
    "        super().__init__()\n",
    "        self.fc = nn.Linear(input_dim, hidden_dim)\n",
    "        self.mu = nn.Linear(hidden_dim, latent_dim)\n",
    "        self.log_var = nn.Linear(hidden_dim, latent_dim)\n",
    "\n",
    "    def forward(self, x):\n",
    "        h = F.relu(self.fc(x))\n",
    "        return self.mu(h), self.log_var(h)\n"
   ]
  },
  {
   "cell_type": "code",
   "execution_count": 26,
   "id": "6284c6da",
   "metadata": {},
   "outputs": [],
   "source": [
    "\n",
    "# Define decoder network\n",
    "class Decoder(nn.Module):\n",
    "    def __init__(self, latent_dim=8, hidden_dim=128, output_dim=784):\n",
    "        super().__init__()\n",
    "        self.fc1 = nn.Linear(latent_dim, hidden_dim)\n",
    "        self.fc2 = nn.Linear(hidden_dim, output_dim)\n",
    "\n",
    "    def forward(self, z):\n",
    "        h = F.relu(self.fc1(z))\n",
    "        return torch.sigmoid(self.fc2(h))\n"
   ]
  },
  {
   "cell_type": "code",
   "execution_count": 27,
   "id": "639e0142",
   "metadata": {},
   "outputs": [
    {
     "name": "stderr",
     "output_type": "stream",
     "text": [
      "C:\\Users\\ruhiy\\AppData\\Local\\Temp\\ipykernel_18684\\624397356.py:23: DeprecationWarning: The class ``qiskit.primitives.estimator.Estimator`` is deprecated as of qiskit 1.2. It will be removed no earlier than 3 months after the release date. All implementations of the `BaseEstimatorV1` interface have been deprecated in favor of their V2 counterparts. The V2 alternative for the `Estimator` class is `StatevectorEstimator`.\n",
      "  estimator=Estimator()\n",
      "C:\\Users\\ruhiy\\AppData\\Local\\Temp\\ipykernel_18684\\624397356.py:18: DeprecationWarning: V1 Primitives are deprecated as of qiskit-machine-learning 0.8.0 and will be removed no sooner than 4 months after the release date. Use V2 primitives for continued compatibility and support.\n",
      "  qnn = EstimatorQNN(\n"
     ]
    }
   ],
   "source": [
    "\n",
    "# Quantum circuit\n",
    "latent_dim = 8\n",
    "inputs = ParameterVector(\"x\", latent_dim)\n",
    "params = ParameterVector(\"θ\", latent_dim * 3)\n",
    "qc = QuantumCircuit(latent_dim)\n",
    "\n",
    "for i in range(latent_dim):\n",
    "    qc.ry(inputs[i], i)\n",
    "for i in range(latent_dim):\n",
    "    qc.rx(params[i], i)\n",
    "    qc.ry(params[i + latent_dim], i)\n",
    "for i in range(latent_dim - 1):\n",
    "    qc.cz(i, i+1)\n",
    "for i in range(latent_dim):\n",
    "    qc.rz(params[i + 2*latent_dim], i)\n",
    "\n",
    "observables = [SparsePauliOp.from_list([(f\"{'I'*i}Z{'I'*(latent_dim-i-1)}\", 1)]) for i in range(latent_dim)]\n",
    "qnn = EstimatorQNN(\n",
    "    circuit=qc,\n",
    "    input_params=inputs,\n",
    "    weight_params=params,\n",
    "    observables=observables,\n",
    "    estimator=Estimator()\n",
    ")\n",
    "quantum_layer = TorchConnector(qnn).to(device)\n",
    "\n"
   ]
  },
  {
   "cell_type": "code",
   "execution_count": 28,
   "id": "530a171b",
   "metadata": {},
   "outputs": [],
   "source": [
    "\n",
    "# Instantiate models\n",
    "encoder = Encoder().to(device)\n",
    "decoder = Decoder().to(device)\n",
    "params = list(encoder.parameters()) + list(decoder.parameters()) + list(quantum_layer.parameters())\n",
    "optimizer = torch.optim.Adam(params, lr=1e-3)\n"
   ]
  },
  {
   "cell_type": "code",
   "execution_count": 29,
   "id": "8b5bff81",
   "metadata": {},
   "outputs": [],
   "source": [
    "\n",
    "# KL divergence and training loop\n",
    "def kl_divergence(mu, log_var):\n",
    "    return -0.5 * torch.sum(1 + log_var - mu.pow(2) - log_var.exp())\n",
    "\n",
    "def train_qvae(epochs=5):\n",
    "    for epoch in range(epochs):\n",
    "        total_loss = 0\n",
    "        for x, _ in dataloader:\n",
    "            x = x.to(device)\n",
    "            optimizer.zero_grad()\n",
    "\n",
    "            mu, log_var = encoder(x)\n",
    "            std = torch.exp(0.5 * log_var)\n",
    "            eps = torch.randn_like(std)\n",
    "            z = mu + eps * std\n",
    "\n",
    "            zq = quantum_layer(torch.tanh(z))\n",
    "            x_hat = decoder(zq)\n",
    "\n",
    "            recon_loss = F.binary_cross_entropy(x_hat, x, reduction=\"sum\")\n",
    "            kl = kl_divergence(mu, log_var)\n",
    "            beta = 0.001\n",
    "            loss = recon_loss + beta * kl\n",
    "\n",
    "            loss.backward()\n",
    "            optimizer.step()\n",
    "            total_loss += loss.item()\n",
    "\n",
    "        print(f\"Epoch {epoch+1}, Loss: {total_loss/len(dataloader.dataset):.4f}\")\n"
   ]
  },
  {
   "cell_type": "code",
   "execution_count": 30,
   "id": "5aaac04b",
   "metadata": {},
   "outputs": [
    {
     "name": "stdout",
     "output_type": "stream",
     "text": [
      "Epoch 1, Loss: 492.3368\n",
      "Epoch 2, Loss: 378.5677\n"
     ]
    }
   ],
   "source": [
    "train_qvae(epochs=2)"
   ]
  },
  {
   "cell_type": "code",
   "execution_count": 41,
   "id": "753eeca7",
   "metadata": {},
   "outputs": [
    {
     "name": "stdout",
     "output_type": "stream",
     "text": [
      "mu  tensor([[-3.0538e-02,  1.8924e-03, -1.7229e-02, -4.9957e-03,  7.8610e-03,\n",
      "          5.1756e-03,  5.4802e-03,  1.6396e-02],\n",
      "        [-2.1313e-02,  3.1784e-03, -2.9234e-03,  5.6030e-03,  9.4997e-04,\n",
      "         -8.7996e-03, -3.2291e-03, -7.0571e-03],\n",
      "        [-3.5109e-02,  8.1140e-03, -1.0255e-02, -9.4260e-03, -7.9538e-03,\n",
      "         -1.0517e-02, -6.3706e-03, -2.5433e-03],\n",
      "        [-4.2691e-02,  5.0357e-03, -5.8308e-03, -2.3545e-03,  1.0696e-02,\n",
      "         -3.3947e-02, -4.7778e-03,  3.5255e-03],\n",
      "        [-1.8198e-02,  1.5696e-02, -3.7420e-03,  1.0748e-02,  1.3974e-02,\n",
      "          2.1059e-02,  1.7402e-02,  6.9420e-03],\n",
      "        [-1.2807e-02,  3.7808e-03, -3.4345e-03, -1.2686e-02, -1.4374e-02,\n",
      "         -3.0529e-02, -7.8947e-03,  9.3208e-03],\n",
      "        [ 1.5349e-03,  9.4154e-03, -8.8532e-05, -1.7734e-02, -1.3554e-02,\n",
      "          1.2567e-02,  3.0504e-03,  5.0278e-03],\n",
      "        [-3.0774e-02,  7.5685e-03, -8.5191e-03,  1.9033e-03,  1.0823e-02,\n",
      "         -1.8095e-03, -1.9777e-03,  1.7522e-02]])\n",
      "log_var  tensor([[-0.0043, -0.0036, -0.0046,  0.0014,  0.0005,  0.0165,  0.0059, -0.0176],\n",
      "        [-0.0013,  0.0132,  0.0033,  0.0018,  0.0115,  0.0021,  0.0024,  0.0050],\n",
      "        [ 0.0153,  0.0065,  0.0122,  0.0019,  0.0090, -0.0060,  0.0055,  0.0017],\n",
      "        [ 0.0048,  0.0082, -0.0137,  0.0236, -0.0017, -0.0108, -0.0030,  0.0382],\n",
      "        [-0.0160, -0.0220,  0.0288,  0.0256, -0.0377,  0.0201,  0.0213,  0.0138],\n",
      "        [-0.0051,  0.0037,  0.0208, -0.0005, -0.0081, -0.0139, -0.0062,  0.0057],\n",
      "        [-0.0076, -0.0178, -0.0022, -0.0189,  0.0029, -0.0358,  0.0121, -0.0235],\n",
      "        [ 0.0067, -0.0097,  0.0038,  0.0044, -0.0067,  0.0034, -0.0023, -0.0002]])\n"
     ]
    },
    {
     "data": {
      "image/png": "[encoded data removed]",
      "text/plain": [
       "<Figure size 1400x300 with 16 Axes>"
      ]
     },
     "metadata": {},
     "output_type": "display_data"
    }
   ],
   "source": [
    "\n",
    "# Visualize\n",
    "with torch.no_grad():\n",
    "    sample = next(iter(dataloader))[0][:8].to(device)\n",
    "    mu, log_var = encoder(sample)\n",
    "    print(\"mu \", mu)\n",
    "    print(\"log_var \", log_var)\n",
    "    # z = mu\n",
    "    z = mu + torch.randn_like(mu) * torch.exp(0.5 * log_var)\n",
    "    zq = quantum_layer(torch.tanh(z))\n",
    "    recon = decoder(z)\n",
    "    # recon = decoder(zq).cpu()\n",
    "\n",
    "    fig, axes = plt.subplots(2, 8, figsize=(14, 3))\n",
    "    for i in range(8):\n",
    "        axes[0, i].imshow(sample[i].view(28, 28).cpu(), cmap=\"gray\")\n",
    "        axes[0, i].axis(\"off\")\n",
    "        axes[1, i].imshow(recon[i].view(28, 28), cmap=\"gray\")\n",
    "        axes[1, i].axis(\"off\")\n",
    "    axes[0, 0].set_ylabel(\"Input\")\n",
    "    axes[1, 0].set_ylabel(\"Recon\")\n",
    "    plt.suptitle(\"QVAE Reconstruction\")\n",
    "    plt.tight_layout()\n",
    "    plt.show()\n"
   ]
  }
 ],
 "metadata": {
  "kernelspec": {
   "display_name": "qiskit_torch_env",
   "language": "python",
   "name": "python3"
  },
  "language_info": {
   "codemirror_mode": {
    "name": "ipython",
    "version": 3
   },
   "file_extension": ".py",
   "mimetype": "text/x-python",
   "name": "python",
   "nbconvert_exporter": "python",
   "pygments_lexer": "ipython3",
   "version": "3.13.5"
  }
 },
 "nbformat": 4,
 "nbformat_minor": 5
}
